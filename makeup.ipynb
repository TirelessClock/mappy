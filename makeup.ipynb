{
 "cells": [
  {
   "cell_type": "code",
   "execution_count": null,
   "metadata": {},
   "outputs": [],
   "source": [
    "!pip install rasterio numpy"
   ]
  },
  {
   "cell_type": "code",
   "execution_count": 3,
   "metadata": {},
   "outputs": [
    {
     "name": "stdout",
     "output_type": "stream",
     "text": [
      "{'driver': 'GTiff', 'dtype': 'uint8', 'nodata': 0.0, 'width': 51218, 'height': 89289, 'count': 1, 'crs': CRS.from_epsg(32618), 'transform': Affine(10.0, 0.0, 243910.0,\n",
      "       0.0, -10.0, 5320650.0)}\n",
      "(1, 89289, 51218)\n"
     ]
    }
   ],
   "source": [
    "import rasterio as rast\n",
    "import numpy as np"
   ]
  },
  {
   "cell_type": "code",
   "execution_count": 4,
   "metadata": {},
   "outputs": [],
   "source": [
    "obj22 = rast.open('data/2022.tif')\n",
    "obj23 = rast.open('data/2023.tif')\n",
    "obj24 = rast.open('data/2024.tif')"
   ]
  },
  {
   "cell_type": "code",
   "execution_count": 24,
   "metadata": {},
   "outputs": [
    {
     "data": {
      "text/plain": [
       "(243910.0, 5320650.0)"
      ]
     },
     "execution_count": 24,
     "metadata": {},
     "output_type": "execute_result"
    }
   ],
   "source": [
    "obj22.transform * (0,0)"
   ]
  },
  {
   "cell_type": "code",
   "execution_count": 25,
   "metadata": {},
   "outputs": [
    {
     "data": {
      "text/plain": [
       "(756090.0, 4427760.0)"
      ]
     },
     "execution_count": 25,
     "metadata": {},
     "output_type": "execute_result"
    }
   ],
   "source": [
    "obj23.transform * (obj22.width, obj22.height)"
   ]
  },
  {
   "cell_type": "code",
   "execution_count": 27,
   "metadata": {},
   "outputs": [],
   "source": [
    "meta = obj22.meta\n",
    "meta.update(count=3)\n",
    "\n",
    "with rast.open('data/combined.tif', 'w', **meta) as dst:\n",
    "    dst.write(obj22.read(1), 1)\n",
    "    dst.write(obj23.read(1), 2)\n",
    "    dst.write(obj24.read(1), 3)"
   ]
  },
  {
   "cell_type": "code",
   "execution_count": 66,
   "metadata": {},
   "outputs": [],
   "source": [
    "obj = rast.open('data/combined.tif')"
   ]
  },
  {
   "cell_type": "code",
   "execution_count": 31,
   "metadata": {},
   "outputs": [
    {
     "data": {
      "text/plain": [
       "array([[0, 0, 0, ..., 0, 0, 0],\n",
       "       [0, 0, 0, ..., 0, 0, 0],\n",
       "       [0, 0, 0, ..., 0, 0, 0],\n",
       "       ...,\n",
       "       [0, 0, 0, ..., 0, 0, 0],\n",
       "       [0, 0, 0, ..., 0, 0, 0],\n",
       "       [0, 0, 0, ..., 0, 0, 0]], dtype=uint8)"
      ]
     },
     "execution_count": 31,
     "metadata": {},
     "output_type": "execute_result"
    }
   ],
   "source": [
    "obj.read(1)"
   ]
  },
  {
   "cell_type": "code",
   "execution_count": 32,
   "metadata": {},
   "outputs": [
    {
     "data": {
      "text/plain": [
       "CRS.from_epsg(32618)"
      ]
     },
     "execution_count": 32,
     "metadata": {},
     "output_type": "execute_result"
    }
   ],
   "source": [
    "obj.crs"
   ]
  },
  {
   "cell_type": "code",
   "execution_count": 67,
   "metadata": {},
   "outputs": [],
   "source": [
    "nyc_bounds = {\n",
    "    \"west\": -74.25909,\n",
    "    \"east\": -73.70018,\n",
    "    \"north\": 40.91553,\n",
    "    \"south\": 40.49612\n",
    "}"
   ]
  },
  {
   "cell_type": "code",
   "execution_count": 38,
   "metadata": {},
   "outputs": [
    {
     "name": "stdout",
     "output_type": "stream",
     "text": [
      "Collecting pyproj\n",
      "  Downloading pyproj-3.6.1-cp312-cp312-win_amd64.whl.metadata (31 kB)\n",
      "Requirement already satisfied: certifi in c:\\users\\abhim\\appdata\\local\\programs\\python\\python312\\lib\\site-packages (from pyproj) (2023.11.17)\n",
      "Downloading pyproj-3.6.1-cp312-cp312-win_amd64.whl (6.1 MB)\n",
      "   ---------------------------------------- 0.0/6.1 MB ? eta -:--:--\n",
      "   ---------------------------------------- 0.0/6.1 MB ? eta -:--:--\n",
      "   - -------------------------------------- 0.2/6.1 MB 2.6 MB/s eta 0:00:03\n",
      "   ----- ---------------------------------- 0.8/6.1 MB 7.0 MB/s eta 0:00:01\n",
      "   ------- -------------------------------- 1.1/6.1 MB 7.3 MB/s eta 0:00:01\n",
      "   ------------ --------------------------- 2.0/6.1 MB 9.6 MB/s eta 0:00:01\n",
      "   ----------------- ---------------------- 2.6/6.1 MB 10.5 MB/s eta 0:00:01\n",
      "   ----------------- ---------------------- 2.7/6.1 MB 9.1 MB/s eta 0:00:01\n",
      "   ----------------- ---------------------- 2.7/6.1 MB 9.1 MB/s eta 0:00:01\n",
      "   ------------------- -------------------- 2.9/6.1 MB 7.5 MB/s eta 0:00:01\n",
      "   -------------------------- ------------- 4.0/6.1 MB 9.2 MB/s eta 0:00:01\n",
      "   ------------------------------ --------- 4.6/6.1 MB 9.6 MB/s eta 0:00:01\n",
      "   ----------------------------------- ---- 5.4/6.1 MB 10.2 MB/s eta 0:00:01\n",
      "   -------------------------------------- - 5.9/6.1 MB 10.4 MB/s eta 0:00:01\n",
      "   ---------------------------------------  6.1/6.1 MB 9.7 MB/s eta 0:00:01\n",
      "   ---------------------------------------- 6.1/6.1 MB 9.5 MB/s eta 0:00:00\n",
      "Installing collected packages: pyproj\n",
      "Successfully installed pyproj-3.6.1\n"
     ]
    },
    {
     "name": "stderr",
     "output_type": "stream",
     "text": [
      "\n",
      "[notice] A new release of pip is available: 24.0 -> 24.1.2\n",
      "[notice] To update, run: python.exe -m pip install --upgrade pip\n"
     ]
    }
   ],
   "source": [
    "!pip3.12 install pyproj"
   ]
  },
  {
   "cell_type": "code",
   "execution_count": 68,
   "metadata": {},
   "outputs": [],
   "source": [
    "from pyproj import Transformer\n",
    "# Initialize the transformer to convert from lat/lon to the specified CRS\n",
    "transformer = Transformer.from_crs(\"epsg:4326\", \"epsg:32618\")\n",
    "\n",
    "# Transform the bounding box to the CRS of the raster\n",
    "west, north = transformer.transform(nyc_bounds[\"north\"], nyc_bounds[\"west\"])\n",
    "east, south = transformer.transform(nyc_bounds[\"south\"], nyc_bounds[\"east\"])"
   ]
  },
  {
   "cell_type": "code",
   "execution_count": 64,
   "metadata": {},
   "outputs": [
    {
     "ename": "WindowError",
     "evalue": "Bounds and transform are inconsistent",
     "output_type": "error",
     "traceback": [
      "\u001b[1;31m---------------------------------------------------------------------------\u001b[0m",
      "\u001b[1;31mWindowError\u001b[0m                               Traceback (most recent call last)",
      "Cell \u001b[1;32mIn[64], line 2\u001b[0m\n\u001b[0;32m      1\u001b[0m \u001b[38;5;66;03m# Open the raster file and clip it to the bounding box\u001b[39;00m\n\u001b[1;32m----> 2\u001b[0m window \u001b[38;5;241m=\u001b[39m \u001b[43mrast\u001b[49m\u001b[38;5;241;43m.\u001b[39;49m\u001b[43mwindows\u001b[49m\u001b[38;5;241;43m.\u001b[39;49m\u001b[43mfrom_bounds\u001b[49m\u001b[43m(\u001b[49m\u001b[43mwest\u001b[49m\u001b[43m,\u001b[49m\u001b[43m \u001b[49m\u001b[43msouth\u001b[49m\u001b[43m,\u001b[49m\u001b[43m \u001b[49m\u001b[43meast\u001b[49m\u001b[43m,\u001b[49m\u001b[43m \u001b[49m\u001b[43mnorth\u001b[49m\u001b[43m,\u001b[49m\u001b[43m \u001b[49m\u001b[43mobj\u001b[49m\u001b[38;5;241;43m.\u001b[39;49m\u001b[43mtransform\u001b[49m\u001b[43m)\u001b[49m\n\u001b[0;32m      3\u001b[0m out_image \u001b[38;5;241m=\u001b[39m obj\u001b[38;5;241m.\u001b[39mread(window\u001b[38;5;241m=\u001b[39mwindow)\n\u001b[0;32m      4\u001b[0m out_transform \u001b[38;5;241m=\u001b[39m obj\u001b[38;5;241m.\u001b[39mwindow_transform(window)\n",
      "File \u001b[1;32mc:\\Users\\abhim\\AppData\\Local\\Programs\\Python\\Python312\\Lib\\site-packages\\rasterio\\windows.py:324\u001b[0m, in \u001b[0;36mfrom_bounds\u001b[1;34m(left, bottom, right, top, transform, height, width, precision)\u001b[0m\n\u001b[0;32m    322\u001b[0m     \u001b[38;5;28;01mraise\u001b[39;00m WindowError(\u001b[38;5;124m\"\u001b[39m\u001b[38;5;124mBounds and transform are inconsistent\u001b[39m\u001b[38;5;124m\"\u001b[39m)\n\u001b[0;32m    323\u001b[0m \u001b[38;5;28;01mif\u001b[39;00m (bottom \u001b[38;5;241m-\u001b[39m top) \u001b[38;5;241m/\u001b[39m transform\u001b[38;5;241m.\u001b[39me \u001b[38;5;241m<\u001b[39m \u001b[38;5;241m0\u001b[39m:\n\u001b[1;32m--> 324\u001b[0m     \u001b[38;5;28;01mraise\u001b[39;00m WindowError(\u001b[38;5;124m\"\u001b[39m\u001b[38;5;124mBounds and transform are inconsistent\u001b[39m\u001b[38;5;124m\"\u001b[39m)\n\u001b[0;32m    326\u001b[0m rows, cols \u001b[38;5;241m=\u001b[39m rowcol(\n\u001b[0;32m    327\u001b[0m     transform,\n\u001b[0;32m    328\u001b[0m     [left, right, right, left],\n\u001b[0;32m    329\u001b[0m     [top, top, bottom, bottom],\n\u001b[0;32m    330\u001b[0m     op\u001b[38;5;241m=\u001b[39m\u001b[38;5;28mfloat\u001b[39m,\n\u001b[0;32m    331\u001b[0m )\n\u001b[0;32m    332\u001b[0m row_start, row_stop \u001b[38;5;241m=\u001b[39m \u001b[38;5;28mmin\u001b[39m(rows), \u001b[38;5;28mmax\u001b[39m(rows)\n",
      "\u001b[1;31mWindowError\u001b[0m: Bounds and transform are inconsistent"
     ]
    }
   ],
   "source": [
    "# Open the raster file and clip it to the bounding box\n",
    "window = rast.windows.from_bounds(west, south, east, north, obj.transform)\n",
    "out_image = obj.read(window=window)\n",
    "out_transform = obj.window_transform(window)\n",
    "out_meta = obj.meta.copy()"
   ]
  },
  {
   "cell_type": "code",
   "execution_count": 43,
   "metadata": {},
   "outputs": [],
   "source": [
    "# Update the metadata to reflect the new dimensions, transform, and CRS\n",
    "out_meta.update({\n",
    "    \"driver\": \"GTiff\",\n",
    "    \"height\": out_image.shape[1],\n",
    "    \"width\": out_image.shape[2],\n",
    "    \"transform\": out_transform\n",
    "})"
   ]
  },
  {
   "cell_type": "code",
   "execution_count": 44,
   "metadata": {},
   "outputs": [],
   "source": [
    "with rast.open('nyc.tif', 'w', **out_meta) as dst:\n",
    "    dst.write(out_image)"
   ]
  },
  {
   "cell_type": "code",
   "execution_count": 45,
   "metadata": {},
   "outputs": [],
   "source": [
    "nyc = rast.open(\"data/nyc.tif\")"
   ]
  },
  {
   "cell_type": "code",
   "execution_count": 46,
   "metadata": {},
   "outputs": [
    {
     "data": {
      "text/plain": [
       "(1, 2, 3)"
      ]
     },
     "execution_count": 46,
     "metadata": {},
     "output_type": "execute_result"
    }
   ],
   "source": [
    "nyc.indexes"
   ]
  },
  {
   "cell_type": "code",
   "execution_count": 50,
   "metadata": {},
   "outputs": [
    {
     "data": {
      "text/plain": [
       "((756090.0, 4427760.0), (610151.3996412894, 4483634.373562211))"
      ]
     },
     "execution_count": 50,
     "metadata": {},
     "output_type": "execute_result"
    }
   ],
   "source": [
    "obj.transform*(obj.width, obj.height), nyc.transform*(nyc.width, nyc.height)"
   ]
  },
  {
   "cell_type": "code",
   "execution_count": 51,
   "metadata": {},
   "outputs": [
    {
     "data": {
      "text/plain": [
       "(BoundingBox(left=243910.0, bottom=4427760.0, right=756090.0, top=5320650.0),\n",
       " BoundingBox(left=562391.3996412894, bottom=4483634.373562211, right=610151.3996412894, top=4529644.373562211))"
      ]
     },
     "execution_count": 51,
     "metadata": {},
     "output_type": "execute_result"
    }
   ],
   "source": [
    "obj.bounds, nyc.bounds"
   ]
  },
  {
   "cell_type": "code",
   "execution_count": 52,
   "metadata": {},
   "outputs": [
    {
     "data": {
      "text/plain": [
       "((243910.0, 5320650.0), (562391.3996412894, 4529644.373562211))"
      ]
     },
     "execution_count": 52,
     "metadata": {},
     "output_type": "execute_result"
    }
   ],
   "source": [
    "obj.transform * (0,0), nyc.transform * (0,0)"
   ]
  },
  {
   "cell_type": "code",
   "execution_count": null,
   "metadata": {},
   "outputs": [],
   "source": []
  }
 ],
 "metadata": {
  "kernelspec": {
   "display_name": "Python 3",
   "language": "python",
   "name": "python3"
  },
  "language_info": {
   "codemirror_mode": {
    "name": "ipython",
    "version": 3
   },
   "file_extension": ".py",
   "mimetype": "text/x-python",
   "name": "python",
   "nbconvert_exporter": "python",
   "pygments_lexer": "ipython3",
   "version": "3.12.1"
  }
 },
 "nbformat": 4,
 "nbformat_minor": 2
}
